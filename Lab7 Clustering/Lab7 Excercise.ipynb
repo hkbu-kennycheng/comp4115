{
 "cells": [
  {
   "cell_type": "markdown",
   "metadata": {},
   "source": [
    "# COMP4115: Exploratory Data Analysis and Visualization\n",
    "# Lab 7 Excercise on Data Clustering\n",
    "\n",
    "Student Name: \n",
    "\n",
    "Student Number:"
   ]
  },
  {
   "cell_type": "markdown",
   "metadata": {},
   "source": [
    "## Q1. Import 'data2.csv' (x1, x2 are two features). Perform *K*-means algorithms on this data with k=2 and visualize the clustering results. Answer the following question based on the visualization.\n",
    "\n",
    "### Does *k*-means algorithm work well on this dataset? And Why?\n",
    "### Answer:"
   ]
  },
  {
   "cell_type": "code",
   "execution_count": null,
   "metadata": {},
   "outputs": [],
   "source": [
    "\n"
   ]
  },
  {
   "cell_type": "markdown",
   "metadata": {},
   "source": [
    "## Q2. Import 'data.csv' (x1, x2 are two features). Modify the 'my_k_means' function as shown in the lab tutorial to visualize the *k*-means clustering results in each iteration. Then apply your modified 'my_k_means' function on this imported data with k = 4.\n",
    "\n",
    "One example of the output is given in 'Lab7_Q2_OutputExample.pdf' for your reference."
   ]
  },
  {
   "cell_type": "code",
   "execution_count": null,
   "metadata": {},
   "outputs": [],
   "source": []
  }
 ],
 "metadata": {
  "kernelspec": {
   "display_name": "Python 3",
   "language": "python",
   "name": "python3"
  },
  "language_info": {
   "codemirror_mode": {
    "name": "ipython",
    "version": 3
   },
   "file_extension": ".py",
   "mimetype": "text/x-python",
   "name": "python",
   "nbconvert_exporter": "python",
   "pygments_lexer": "ipython3",
   "version": "3.6.4"
  }
 },
 "nbformat": 4,
 "nbformat_minor": 2
}
