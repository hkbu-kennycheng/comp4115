{
 "cells": [
  {
   "cell_type": "markdown",
   "metadata": {},
   "source": [
    "# COMP4115: Exploratory Data Analysis and Visualization\n",
    "# Lab5. Implementation of Perceptron Algorithm"
   ]
  },
  {
   "cell_type": "markdown",
   "metadata": {},
   "source": [
    "## 1. Basic Implmentation of Perceptron Algorithm"
   ]
  },
  {
   "cell_type": "code",
   "execution_count": 1,
   "metadata": {},
   "outputs": [],
   "source": [
    "import numpy as np\n",
    "def my_perceptron(X, y):\n",
    "    # Initialize the weigths to zeros\n",
    "    w = np.zeros(X.shape[1])\n",
    "    it = 0\n",
    "    # Iterate until all points are correctly classified\n",
    "    while True:\n",
    "        for xi, yi in zip(X,y):\n",
    "            it = it + 1;\n",
    "            print('*********' + \"iteration\" + str(it) + '*********')\n",
    "            print(\"xi: \" + np.array2string(xi) + \", yi: \" + str(yi) + \", w: \" + np.array2string(w))\n",
    "            if int(np.sign(w.T.dot(xi))) != yi:\n",
    "                w += yi*xi\n",
    "                print(\"update w: \" + np.array2string(w))\n",
    "            if(classification_error(X, y, w) == 0):\n",
    "                return w\n",
    "\n",
    "def classification_error(X, y, w):\n",
    "    # Error defined as fraction of misclassified points\n",
    "    M = len(X)\n",
    "    n_mispts = 0\n",
    "    error = 0\n",
    "    for xi, yi in zip(X,y):\n",
    "        if int(np.sign(w.T.dot(xi))) != yi:\n",
    "            n_mispts += 1\n",
    "            error = n_mispts / float(M)\n",
    "    return error"
   ]
  },
  {
   "cell_type": "code",
   "execution_count": 2,
   "metadata": {},
   "outputs": [
    {
     "name": "stdout",
     "output_type": "stream",
     "text": [
      "*********iteration1*********\n",
      "xi: [ 1  1 -1], yi: 1, w: [ 0.  0.  0.]\n",
      "update w: [ 1.  1. -1.]\n",
      "*********iteration2*********\n",
      "xi: [1 1 1], yi: 1, w: [ 1.  1. -1.]\n",
      "*********iteration3*********\n",
      "xi: [ 1 -1  1], yi: 1, w: [ 1.  1. -1.]\n",
      "update w: [ 2.  0.  0.]\n",
      "*********iteration4*********\n",
      "xi: [ 1 -1 -1], yi: -1, w: [ 2.  0.  0.]\n",
      "update w: [ 1.  1.  1.]\n",
      "[ 1.  1.  1.]\n"
     ]
    },
    {
     "data": {
      "image/png": "[encoded data removed]",
      "text/plain": [
       "<matplotlib.figure.Figure at 0x26cd6391d30>"
      ]
     },
     "metadata": {},
     "output_type": "display_data"
    }
   ],
   "source": [
    "# perceptron on a seperable case \n",
    "X = np.array([[1, 1, -1], [1, 1, 1], [1, -1, 1], [1, -1, -1]])\n",
    "y = np.array([1,1,1,-1])\n",
    "\n",
    "# visualize the data\n",
    "%matplotlib inline\n",
    "import matplotlib.pyplot as plt\n",
    "plt.scatter(X[y==1, 1], X[y==1, 2], s=30, color = 'r')\n",
    "plt.scatter(X[y==-1, 1], X[y==-1, 2], s=30, color = 'b')\n",
    "plt.xlim(-2,2);\n",
    "plt.ylim(-2, 2);\n",
    "\n",
    "# apply perceptron on it\n",
    "w = my_perceptron(X,y)\n",
    "print(w)"
   ]
  },
  {
   "cell_type": "code",
   "execution_count": 3,
   "metadata": {},
   "outputs": [
    {
     "data": {
      "image/png": "[encoded data removed]",
      "text/plain": [
       "<matplotlib.figure.Figure at 0x26cd7652a90>"
      ]
     },
     "metadata": {},
     "output_type": "display_data"
    }
   ],
   "source": [
    "# perceptron on a non-separable case\n",
    "X = np.array([[1, 1, -1], [1, 1, 1], [1, -1, 1], [1, -1, -1]])\n",
    "y = np.array([1,-1,1,-1])\n",
    "\n",
    "# visualize the data\n",
    "%matplotlib inline\n",
    "import matplotlib.pyplot as plt\n",
    "plt.scatter(X[y==1, 1], X[y==1, 2], s=30, color = 'r')\n",
    "plt.scatter(X[y==-1, 1], X[y==-1, 2], s=30, color = 'b')\n",
    "plt.xlim(-2,2);\n",
    "plt.ylim(-2, 2);\n",
    "\n",
    "# apply perceptron on it\n",
    "#w = my_perceptron(X,y)    # it will result in an infinite loop\n"
   ]
  },
  {
   "cell_type": "markdown",
   "metadata": {},
   "source": [
    "## 2. A more practical Perceptron Algorithm"
   ]
  },
  {
   "cell_type": "code",
   "execution_count": 4,
   "metadata": {},
   "outputs": [],
   "source": [
    "import numpy as np\n",
    "def my_perceptron_train(X, y, maxIter = 20):\n",
    "    # Initialize the weigths to zeros\n",
    "    X_train = np.c_[X.copy(), np.ones(X.shape[0])] # add a constant cloumns with all elements equal to one\n",
    "    w = np.zeros(X_train.shape[1])\n",
    "    it = 0\n",
    "    w_best = w.copy()\n",
    "    min_error_rate = 1\n",
    "    # Iterate until all points are correctly classified\n",
    "    while(it < maxIter):\n",
    "        it = it + 1\n",
    "        for xi, yi in zip(X_train,y):\n",
    "            if int(np.sign(w.T.dot(xi))) != yi:\n",
    "                w += yi*xi\n",
    "            error_rate = classification_error(X_train, y, w)\n",
    "            if(error_rate == 0):\n",
    "                return w\n",
    "            if(error_rate < min_error_rate):    # maintain the best solution\n",
    "                w_best = w.copy()\n",
    "                min_error_rate = error_rate\n",
    "    \n",
    "    return w_best\n",
    "                \n",
    "def my_perceptron_prediction(X, w):\n",
    "    X_test = np.c_[X, np.ones(X.shape[0])] \n",
    "    y_pred = np.ones(X_test.shape[0])\n",
    "    i = 0\n",
    "    for xi in X_test:\n",
    "        if np.sign(w.T.dot(xi)) < 0:\n",
    "            y_pred[i] = -1\n",
    "        i = i+1\n",
    "    return y_pred "
   ]
  },
  {
   "cell_type": "markdown",
   "metadata": {},
   "source": [
    "## 3. Test our perceptron algorithm on iris dataset"
   ]
  },
  {
   "cell_type": "code",
   "execution_count": 5,
   "metadata": {},
   "outputs": [
    {
     "data": {
      "text/html": [
       "<div>\n",
       "<style scoped>\n",
       "    .dataframe tbody tr th:only-of-type {\n",
       "        vertical-align: middle;\n",
       "    }\n",
       "\n",
       "    .dataframe tbody tr th {\n",
       "        vertical-align: top;\n",
       "    }\n",
       "\n",
       "    .dataframe thead th {\n",
       "        text-align: right;\n",
       "    }\n",
       "</style>\n",
       "<table border=\"1\" class=\"dataframe\">\n",
       "  <thead>\n",
       "    <tr style=\"text-align: right;\">\n",
       "      <th></th>\n",
       "      <th>sepal_length</th>\n",
       "      <th>sepal_width</th>\n",
       "      <th>petal_length</th>\n",
       "      <th>petal_width</th>\n",
       "      <th>species</th>\n",
       "    </tr>\n",
       "  </thead>\n",
       "  <tbody>\n",
       "    <tr>\n",
       "      <th>0</th>\n",
       "      <td>5.1</td>\n",
       "      <td>3.5</td>\n",
       "      <td>1.4</td>\n",
       "      <td>0.2</td>\n",
       "      <td>setosa</td>\n",
       "    </tr>\n",
       "    <tr>\n",
       "      <th>1</th>\n",
       "      <td>4.9</td>\n",
       "      <td>3.0</td>\n",
       "      <td>1.4</td>\n",
       "      <td>0.2</td>\n",
       "      <td>setosa</td>\n",
       "    </tr>\n",
       "    <tr>\n",
       "      <th>2</th>\n",
       "      <td>4.7</td>\n",
       "      <td>3.2</td>\n",
       "      <td>1.3</td>\n",
       "      <td>0.2</td>\n",
       "      <td>setosa</td>\n",
       "    </tr>\n",
       "    <tr>\n",
       "      <th>3</th>\n",
       "      <td>4.6</td>\n",
       "      <td>3.1</td>\n",
       "      <td>1.5</td>\n",
       "      <td>0.2</td>\n",
       "      <td>setosa</td>\n",
       "    </tr>\n",
       "    <tr>\n",
       "      <th>4</th>\n",
       "      <td>5.0</td>\n",
       "      <td>3.6</td>\n",
       "      <td>1.4</td>\n",
       "      <td>0.2</td>\n",
       "      <td>setosa</td>\n",
       "    </tr>\n",
       "  </tbody>\n",
       "</table>\n",
       "</div>"
      ],
      "text/plain": [
       "   sepal_length  sepal_width  petal_length  petal_width species\n",
       "0           5.1          3.5           1.4          0.2  setosa\n",
       "1           4.9          3.0           1.4          0.2  setosa\n",
       "2           4.7          3.2           1.3          0.2  setosa\n",
       "3           4.6          3.1           1.5          0.2  setosa\n",
       "4           5.0          3.6           1.4          0.2  setosa"
      ]
     },
     "execution_count": 5,
     "metadata": {},
     "output_type": "execute_result"
    }
   ],
   "source": [
    "import pandas as pd\n",
    "df = pd.read_csv('iris.csv')\n",
    "df.head()"
   ]
  },
  {
   "cell_type": "code",
   "execution_count": 6,
   "metadata": {},
   "outputs": [
    {
     "name": "stdout",
     "output_type": "stream",
     "text": [
      "test accuracy: 0.8\n"
     ]
    }
   ],
   "source": [
    "X = df.drop(['species'], axis=1).values\n",
    "y = np.ones(df.shape[0])\n",
    "y[df['species']!='versicolor'] = -1\n",
    "\n",
    "# Split X and y into training and testing sets \n",
    "from sklearn.model_selection import train_test_split\n",
    "X_train, X_test, y_train, y_test = train_test_split(X, y, test_size=0.2, random_state=4)\n",
    "\n",
    "w = my_perceptron_train(X_train,y_train, maxIter = 100)\n",
    "\n",
    "y_pred = my_perceptron_prediction(X_test, w)\n",
    "\n",
    "print(\"test accuracy: \" + str(sum(y_test == y_pred)/len(y_pred)))"
   ]
  }
 ],
 "metadata": {
  "kernelspec": {
   "display_name": "Python 3",
   "language": "python",
   "name": "python3"
  },
  "language_info": {
   "codemirror_mode": {
    "name": "ipython",
    "version": 3
   },
   "file_extension": ".py",
   "mimetype": "text/x-python",
   "name": "python",
   "nbconvert_exporter": "python",
   "pygments_lexer": "ipython3",
   "version": "3.6.4"
  }
 },
 "nbformat": 4,
 "nbformat_minor": 2
}
